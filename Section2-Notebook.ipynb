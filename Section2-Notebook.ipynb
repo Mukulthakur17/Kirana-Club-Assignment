{
 "cells": [
  {
   "cell_type": "markdown",
   "metadata": {},
   "source": [
    "# Section 2 - Coding\n",
    "\n",
    "In this section we will load and manipulate \"unconventional\" data files - for which you will be required to create a simple loading functionality and then be able to process and query a data file.\n",
    "\n",
    "There is a \"section2_data.txt\" file attached to this IPython notebook. The data file contains few rows from a computer vision dataset. Each row corresponds to a frame in a video and contains some metadata and annotations over it.\n",
    "\n",
    "The following notebook will pose some questions about reading and processing this data.\n",
    "\n",
    "Feel free to use any existing python library to answer the questions."
   ]
  },
  {
   "cell_type": "code",
   "execution_count": 1,
   "metadata": {},
   "outputs": [
    {
     "name": "stdout",
     "output_type": "stream",
     "text": [
      "{\"_i\": 0, \"frame\": \"frame_000.png\", \"video\": \"video000\", \"value\": 39, \"labels\": [\"bird\"]}\r\n",
      "{\"_i\": 1, \"frame\": \"frame_001.png\", \"video\": \"video000\", \"value\": 33, \"labels\": [\"frog\", \"dog\"]}\r\n",
      "{\"_i\": 2, \"frame\": \"frame_002.png\", \"video\": \"video000\", \"value\": 25, \"labels\": [\"panda\", \"panda\"]}\r\n",
      "{\"_i\": 3, \"frame\": \"frame_003.png\", \"video\": \"video000\", \"value\": 28, \"labels\": [\"dog\", \"dog\"]}\r\n",
      "{\"_i\": 4, \"frame\": \"frame_004.png\", \"video\": \"video000\", \"value\": 16, \"labels\": [\"cat\"]}\r\n",
      "{\"_i\": 5, \"frame\": \"frame_005.png\", \"video\": \"video000\", \"value\": 32, \"labels\": [\"bird\", \"frog\", \"bird\"]}\r\n",
      "{\"_i\": 6, \"frame\": \"frame_006.png\", \"video\": \"video000\", \"value\": 35, \"labels\": [\"bird\", \"dog\"]}\r\n",
      "{\"_i\": 7, \"frame\": \"frame_000.png\", \"video\": \"video001\", \"value\": 25, \"labels\": [\"dog\", \"bird\"]}\r\n",
      "{\"_i\": 8, \"frame\": \"frame_001.png\", \"video\": \"video001\", \"value\": 16, \"labels\": [\"dog\", \"panda\", \"bird\"]}\r\n",
      "{\"_i\": 9, \"frame\": \"frame_002.png\", \"video\": \"video001\", \"value\": 23, \"labels\": [\"panda\"]}\r\n"
     ]
    }
   ],
   "source": [
    "!head section2_data.txt"
   ]
  },
  {
   "cell_type": "markdown",
   "metadata": {},
   "source": [
    "## Section 1 - Design a data loader\n",
    "\n",
    "Design a data structure, that give a file path `\"section2_data.txt\"`, it will read and parse the contents of the file above.\n",
    "\n",
    "#### Q1 - Design the data structure with the following properties:\n",
    "- The data structure is either callable or indexable. It will accepts a single parameter, as integer, and return the parsed contents of the row corresponding to the given index.\n",
    "- The data structure needs to return the number of rows in the file (and in memory) when called with the python command `len(my_data_struct)`\n"
   ]
  },
  {
   "cell_type": "code",
   "execution_count": 13,
   "metadata": {
    "ExecuteTime": {
     "end_time": "2021-06-22T09:41:50.450031Z",
     "start_time": "2021-06-22T09:41:50.441896Z"
    }
   },
   "outputs": [
    {
     "data": {
      "text/html": [
       "<div>\n",
       "<style scoped>\n",
       "    .dataframe tbody tr th:only-of-type {\n",
       "        vertical-align: middle;\n",
       "    }\n",
       "\n",
       "    .dataframe tbody tr th {\n",
       "        vertical-align: top;\n",
       "    }\n",
       "\n",
       "    .dataframe thead th {\n",
       "        text-align: right;\n",
       "    }\n",
       "</style>\n",
       "<table border=\"1\" class=\"dataframe\">\n",
       "  <thead>\n",
       "    <tr style=\"text-align: right;\">\n",
       "      <th></th>\n",
       "      <th>frame</th>\n",
       "      <th>video</th>\n",
       "      <th>value</th>\n",
       "      <th>labels</th>\n",
       "    </tr>\n",
       "    <tr>\n",
       "      <th>_i</th>\n",
       "      <th></th>\n",
       "      <th></th>\n",
       "      <th></th>\n",
       "      <th></th>\n",
       "    </tr>\n",
       "  </thead>\n",
       "  <tbody>\n",
       "    <tr>\n",
       "      <th>0</th>\n",
       "      <td>frame_000.png</td>\n",
       "      <td>video000</td>\n",
       "      <td>39</td>\n",
       "      <td>[bird]</td>\n",
       "    </tr>\n",
       "    <tr>\n",
       "      <th>1</th>\n",
       "      <td>frame_001.png</td>\n",
       "      <td>video000</td>\n",
       "      <td>33</td>\n",
       "      <td>[frog, dog]</td>\n",
       "    </tr>\n",
       "    <tr>\n",
       "      <th>2</th>\n",
       "      <td>frame_002.png</td>\n",
       "      <td>video000</td>\n",
       "      <td>25</td>\n",
       "      <td>[panda, panda]</td>\n",
       "    </tr>\n",
       "    <tr>\n",
       "      <th>3</th>\n",
       "      <td>frame_003.png</td>\n",
       "      <td>video000</td>\n",
       "      <td>28</td>\n",
       "      <td>[dog, dog]</td>\n",
       "    </tr>\n",
       "    <tr>\n",
       "      <th>4</th>\n",
       "      <td>frame_004.png</td>\n",
       "      <td>video000</td>\n",
       "      <td>16</td>\n",
       "      <td>[cat]</td>\n",
       "    </tr>\n",
       "  </tbody>\n",
       "</table>\n",
       "</div>"
      ],
      "text/plain": [
       "            frame     video  value          labels\n",
       "_i                                                \n",
       "0   frame_000.png  video000     39          [bird]\n",
       "1   frame_001.png  video000     33     [frog, dog]\n",
       "2   frame_002.png  video000     25  [panda, panda]\n",
       "3   frame_003.png  video000     28      [dog, dog]\n",
       "4   frame_004.png  video000     16           [cat]"
      ]
     },
     "execution_count": 13,
     "metadata": {},
     "output_type": "execute_result"
    }
   ],
   "source": [
    "## YOUR SOLUTION\n",
    "import pandas as pd\n",
    "import numpy as np\n",
    "import ast\n",
    "\n",
    "dataList = []\n",
    "with open('section2_data.txt') as f:\n",
    "    for line in f.readlines():\n",
    "        # ast.literal_eval raises an exception if the input isn't a valid Python datatype\n",
    "        dataList.append(ast.literal_eval(line))\n",
    "\n",
    "#storing the value into the data frame ( the data structure )\n",
    "df = pd.DataFrame.from_records(dataList, index=\"_i\")\n",
    "\n",
    "df.head()"
   ]
  },
  {
   "cell_type": "markdown",
   "metadata": {},
   "source": [
    "#### Q2 - Prove that you can initialize the reader and then calculate its length `len(reader)` and print the 26th and 43rd elements of the dataset."
   ]
  },
  {
   "cell_type": "code",
   "execution_count": 26,
   "metadata": {},
   "outputs": [
    {
     "name": "stdout",
     "output_type": "stream",
     "text": [
      "Length of the Data Structure :  51\n",
      "\n",
      "26th Element of the Dataset :  frame           frame_003.png\n",
      "video                video003\n",
      "value                      24\n",
      "labels                [panda]\n",
      "dog_in_label            False\n",
      "Name: 25, dtype: object\n",
      "\n",
      "43th Element of the Dataset :  frame                frame_002.png\n",
      "video                     video004\n",
      "value                           32\n",
      "labels          [panda, bird, cat]\n",
      "dog_in_label                 False\n",
      "Name: 42, dtype: object\n"
     ]
    }
   ],
   "source": [
    "## YOUR SOLUTION\n",
    "#printing the length\n",
    "print('Length of the Data Structure : ' , len(df) , end ='\\n\\n')\n",
    "\n",
    "#accessing the value with index\n",
    "print('26th Element of the Dataset : ' , df.loc[25] , end='\\n\\n')\n",
    "print('43th Element of the Dataset : ' , df.loc[42])"
   ]
  },
  {
   "cell_type": "markdown",
   "metadata": {},
   "source": [
    "## Section 2 - Process the data\n",
    "\n",
    "#### Q1 - Write an algorithm that will generate a dictionary with key/value pairs, where the keys are the name of each unique video in the dataset and the value is the number of frames of that video."
   ]
  },
  {
   "cell_type": "code",
   "execution_count": 22,
   "metadata": {},
   "outputs": [
    {
     "name": "stdout",
     "output_type": "stream",
     "text": [
      "{'video000': 7, 'video001': 10, 'video002': 5, 'video003': 18, 'video004': 11}\n"
     ]
    }
   ],
   "source": [
    "### YOUT SOLUTION\n",
    "def video_frame_count(my_data_struct):\n",
    "    #group the value with video and call count function for the frame\n",
    "   groupDS = my_data_struct.groupby('video')['frame'].count()\n",
    "   \n",
    "   #returning dictionary\n",
    "   return (dict(groupDS))\n",
    "   \n",
    "ans1 = video_frame_count(df)\n",
    "\n",
    "#checking answer\n",
    "print(ans1)\n",
    "    "
   ]
  },
  {
   "cell_type": "markdown",
   "metadata": {},
   "source": [
    "#### Q2 - Write an algorithm that will generate a dictionary with key/value pairs, where the keys are the name of each unique video in the dataset and the value is the sum of the `value` field of all the frames containing a `dog`."
   ]
  },
  {
   "cell_type": "code",
   "execution_count": 21,
   "metadata": {},
   "outputs": [
    {
     "name": "stdout",
     "output_type": "stream",
     "text": [
      "{'video000': 96.0, 'video001': 69.0, 'video002': 91.0, 'video003': 129.0, 'video004': 49.0}\n"
     ]
    }
   ],
   "source": [
    "### YOUR SOLUTION\n",
    "def video_value_sum_with_dog(my_data_struct):\n",
    "    #check which labels have dog in it\n",
    "   my_data_struct['dog_in_label'] = my_data_struct['labels'].apply( lambda x : 'dog' in x )\n",
    "   \n",
    "   #filter that value into another data structure\n",
    "   fltr = my_data_struct['dog_in_label'] == True\n",
    "   fltrData = my_data_struct.where(fltr).dropna()\n",
    "   \n",
    "   #return the value by grouping with video and calling sum function on value\n",
    "   return dict(fltrData.groupby('video')['value'].sum() )\n",
    "\n",
    "ans2 = video_value_sum_with_dog(df)\n",
    "   \n",
    "print(ans2)\n",
    "            "
   ]
  },
  {
   "cell_type": "markdown",
   "metadata": {},
   "source": [
    "#### Q3 - Last, create an algorithm that returns a dictionary with the count of each of the animal types in the dataset, excluding occurrences in `video003` and rows where the `value` is odd."
   ]
  },
  {
   "cell_type": "code",
   "execution_count": 20,
   "metadata": {},
   "outputs": [
    {
     "name": "stdout",
     "output_type": "stream",
     "text": [
      "{'frog': 15, 'cat': 14, 'panda': 15, 'dog': 21, 'bird': 22}\n"
     ]
    }
   ],
   "source": [
    "### YOUR SOLUTION\n",
    "def animal_count(my_data_struct):\n",
    "   #filter the index having odd and video003\n",
    "   indxRemove = list( my_data_struct[ ( my_data_struct['video'] == 'video003') & \n",
    "                                                  (my_data_struct['value'] %2 != 0) ].index )\n",
    "   \n",
    "   #drop that indexes\n",
    "   new_df = my_data_struct.drop(indxRemove)\n",
    "   \n",
    "   #convert the list of list to single list \n",
    "   animalsList = list( np.concatenate( list( new_df['labels']) ).flat  )  \n",
    "   \n",
    "   #dict of the animal count \n",
    "   animals_count = {}\n",
    "   \n",
    "   #counting the count of each animal \n",
    "   for each_animal in set(animalsList):\n",
    "       animals_count[each_animal] = animalsList.count(each_animal)\n",
    "   \n",
    "   #returing the each count \n",
    "   return animals_count\n",
    "\n",
    "ans3 = animal_count(df)\n",
    "\n",
    "print(ans3)"
   ]
  },
  {
   "cell_type": "code",
   "execution_count": null,
   "metadata": {},
   "outputs": [],
   "source": []
  }
 ],
 "metadata": {
  "kernelspec": {
   "display_name": "Python 3.10.8 64-bit (microsoft store)",
   "language": "python",
   "name": "python3"
  },
  "language_info": {
   "codemirror_mode": {
    "name": "ipython",
    "version": 3
   },
   "file_extension": ".py",
   "mimetype": "text/x-python",
   "name": "python",
   "nbconvert_exporter": "python",
   "pygments_lexer": "ipython3",
   "version": "3.10.9"
  },
  "toc": {
   "base_numbering": 1,
   "nav_menu": {},
   "number_sections": true,
   "sideBar": true,
   "skip_h1_title": false,
   "title_cell": "Table of Contents",
   "title_sidebar": "Contents",
   "toc_cell": false,
   "toc_position": {},
   "toc_section_display": true,
   "toc_window_display": false
  },
  "varInspector": {
   "cols": {
    "lenName": 16,
    "lenType": 16,
    "lenVar": 40
   },
   "kernels_config": {
    "python": {
     "delete_cmd_postfix": "",
     "delete_cmd_prefix": "del ",
     "library": "var_list.py",
     "varRefreshCmd": "print(var_dic_list())"
    },
    "r": {
     "delete_cmd_postfix": ") ",
     "delete_cmd_prefix": "rm(",
     "library": "var_list.r",
     "varRefreshCmd": "cat(var_dic_list()) "
    }
   },
   "types_to_exclude": [
    "module",
    "function",
    "builtin_function_or_method",
    "instance",
    "_Feature"
   ],
   "window_display": false
  },
  "vscode": {
   "interpreter": {
    "hash": "e4b43c9ac8d417113e9bdc93c8e3a92527d71e6fa79845b8407b59a8414ad4e4"
   }
  }
 },
 "nbformat": 4,
 "nbformat_minor": 2
}
